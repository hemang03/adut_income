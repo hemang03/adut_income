{
  "nbformat": 4,
  "nbformat_minor": 0,
  "metadata": {
    "colab": {
      "name": "Zomato data analysis.ipynb",
      "provenance": [],
      "authorship_tag": "ABX9TyP+gJWZbfimj9ZOfLuLspS3",
      "include_colab_link": true
    },
    "kernelspec": {
      "name": "python3",
      "display_name": "Python 3"
    }
  },
  "cells": [
    {
      "cell_type": "markdown",
      "metadata": {
        "id": "view-in-github",
        "colab_type": "text"
      },
      "source": [
        "<a href=\"https://colab.research.google.com/github/hemang03/adut_income/blob/master/Zomato_data_analysis.ipynb\" target=\"_parent\"><img src=\"https://colab.research.google.com/assets/colab-badge.svg\" alt=\"Open In Colab\"/></a>"
      ]
    },
    {
      "cell_type": "code",
      "metadata": {
        "id": "y7REHfHQln1x"
      },
      "source": [
        "import pandas as pd\r\n",
        "import numpy as np \r\n",
        "import matplotlib.pyplot as plt\r\n"
      ],
      "execution_count": 8,
      "outputs": []
    },
    {
      "cell_type": "code",
      "metadata": {
        "colab": {
          "base_uri": "https://localhost:8080/",
          "height": 1000
        },
        "id": "Ih2wkgxglw4r",
        "outputId": "a3161e4f-f6ce-4116-ad44-445985a0764e"
      },
      "source": [
        "df = pd.read_csv('zomato.csv',encoding=\"ISO-8859-1\")\r\n",
        "code_of_country = pd.read_excel('/content/Country-Code.xlsx')\r\n",
        "df1 = pd.merge(df, code_of_country, on='Country Code')\r\n",
        "df1.head(10).T"
      ],
      "execution_count": 9,
      "outputs": [
        {
          "output_type": "execute_result",
          "data": {
            "text/html": [
              "<div>\n",
              "<style scoped>\n",
              "    .dataframe tbody tr th:only-of-type {\n",
              "        vertical-align: middle;\n",
              "    }\n",
              "\n",
              "    .dataframe tbody tr th {\n",
              "        vertical-align: top;\n",
              "    }\n",
              "\n",
              "    .dataframe thead th {\n",
              "        text-align: right;\n",
              "    }\n",
              "</style>\n",
              "<table border=\"1\" class=\"dataframe\">\n",
              "  <thead>\n",
              "    <tr style=\"text-align: right;\">\n",
              "      <th></th>\n",
              "      <th>0</th>\n",
              "      <th>1</th>\n",
              "      <th>2</th>\n",
              "      <th>3</th>\n",
              "      <th>4</th>\n",
              "      <th>5</th>\n",
              "      <th>6</th>\n",
              "      <th>7</th>\n",
              "      <th>8</th>\n",
              "      <th>9</th>\n",
              "    </tr>\n",
              "  </thead>\n",
              "  <tbody>\n",
              "    <tr>\n",
              "      <th>Restaurant ID</th>\n",
              "      <td>6317637</td>\n",
              "      <td>6304287</td>\n",
              "      <td>6300002</td>\n",
              "      <td>6318506</td>\n",
              "      <td>6314302</td>\n",
              "      <td>18189371</td>\n",
              "      <td>6300781</td>\n",
              "      <td>6301290</td>\n",
              "      <td>6300010</td>\n",
              "      <td>6314987</td>\n",
              "    </tr>\n",
              "    <tr>\n",
              "      <th>Restaurant Name</th>\n",
              "      <td>Le Petit Souffle</td>\n",
              "      <td>Izakaya Kikufuji</td>\n",
              "      <td>Heat - Edsa Shangri-La</td>\n",
              "      <td>Ooma</td>\n",
              "      <td>Sambo Kojin</td>\n",
              "      <td>Din Tai Fung</td>\n",
              "      <td>Buffet 101</td>\n",
              "      <td>Vikings</td>\n",
              "      <td>Spiral - Sofitel Philippine Plaza Manila</td>\n",
              "      <td>Locavore</td>\n",
              "    </tr>\n",
              "    <tr>\n",
              "      <th>Country Code</th>\n",
              "      <td>162</td>\n",
              "      <td>162</td>\n",
              "      <td>162</td>\n",
              "      <td>162</td>\n",
              "      <td>162</td>\n",
              "      <td>162</td>\n",
              "      <td>162</td>\n",
              "      <td>162</td>\n",
              "      <td>162</td>\n",
              "      <td>162</td>\n",
              "    </tr>\n",
              "    <tr>\n",
              "      <th>City</th>\n",
              "      <td>Makati City</td>\n",
              "      <td>Makati City</td>\n",
              "      <td>Mandaluyong City</td>\n",
              "      <td>Mandaluyong City</td>\n",
              "      <td>Mandaluyong City</td>\n",
              "      <td>Mandaluyong City</td>\n",
              "      <td>Pasay City</td>\n",
              "      <td>Pasay City</td>\n",
              "      <td>Pasay City</td>\n",
              "      <td>Pasig City</td>\n",
              "    </tr>\n",
              "    <tr>\n",
              "      <th>Address</th>\n",
              "      <td>Third Floor, Century City Mall, Kalayaan Avenu...</td>\n",
              "      <td>Little Tokyo, 2277 Chino Roces Avenue, Legaspi...</td>\n",
              "      <td>Edsa Shangri-La, 1 Garden Way, Ortigas, Mandal...</td>\n",
              "      <td>Third Floor, Mega Fashion Hall, SM Megamall, O...</td>\n",
              "      <td>Third Floor, Mega Atrium, SM Megamall, Ortigas...</td>\n",
              "      <td>Ground Floor, Mega Fashion Hall, SM Megamall, ...</td>\n",
              "      <td>Building K, SM By The Bay, Sunset Boulevard, M...</td>\n",
              "      <td>Building B, By The Bay, Seaside Boulevard, Mal...</td>\n",
              "      <td>Plaza Level, Sofitel Philippine Plaza Manila, ...</td>\n",
              "      <td>Brixton Technology Center, 10 Brixton Street, ...</td>\n",
              "    </tr>\n",
              "    <tr>\n",
              "      <th>Locality</th>\n",
              "      <td>Century City Mall, Poblacion, Makati City</td>\n",
              "      <td>Little Tokyo, Legaspi Village, Makati City</td>\n",
              "      <td>Edsa Shangri-La, Ortigas, Mandaluyong City</td>\n",
              "      <td>SM Megamall, Ortigas, Mandaluyong City</td>\n",
              "      <td>SM Megamall, Ortigas, Mandaluyong City</td>\n",
              "      <td>SM Megamall, Ortigas, Mandaluyong City</td>\n",
              "      <td>SM by the Bay, Mall of Asia Complex, Pasay City</td>\n",
              "      <td>SM by the Bay, Mall of Asia Complex, Pasay City</td>\n",
              "      <td>Sofitel Philippine Plaza Manila, Pasay City</td>\n",
              "      <td>Kapitolyo</td>\n",
              "    </tr>\n",
              "    <tr>\n",
              "      <th>Locality Verbose</th>\n",
              "      <td>Century City Mall, Poblacion, Makati City, Mak...</td>\n",
              "      <td>Little Tokyo, Legaspi Village, Makati City, Ma...</td>\n",
              "      <td>Edsa Shangri-La, Ortigas, Mandaluyong City, Ma...</td>\n",
              "      <td>SM Megamall, Ortigas, Mandaluyong City, Mandal...</td>\n",
              "      <td>SM Megamall, Ortigas, Mandaluyong City, Mandal...</td>\n",
              "      <td>SM Megamall, Ortigas, Mandaluyong City, Mandal...</td>\n",
              "      <td>SM by the Bay, Mall of Asia Complex, Pasay Cit...</td>\n",
              "      <td>SM by the Bay, Mall of Asia Complex, Pasay Cit...</td>\n",
              "      <td>Sofitel Philippine Plaza Manila, Pasay City, P...</td>\n",
              "      <td>Kapitolyo, Pasig City</td>\n",
              "    </tr>\n",
              "    <tr>\n",
              "      <th>Longitude</th>\n",
              "      <td>121.028</td>\n",
              "      <td>121.014</td>\n",
              "      <td>121.057</td>\n",
              "      <td>121.056</td>\n",
              "      <td>121.058</td>\n",
              "      <td>121.056</td>\n",
              "      <td>120.98</td>\n",
              "      <td>120.979</td>\n",
              "      <td>120.98</td>\n",
              "      <td>121.057</td>\n",
              "    </tr>\n",
              "    <tr>\n",
              "      <th>Latitude</th>\n",
              "      <td>14.5654</td>\n",
              "      <td>14.5537</td>\n",
              "      <td>14.5814</td>\n",
              "      <td>14.5853</td>\n",
              "      <td>14.5845</td>\n",
              "      <td>14.5838</td>\n",
              "      <td>14.5313</td>\n",
              "      <td>14.54</td>\n",
              "      <td>14.553</td>\n",
              "      <td>14.572</td>\n",
              "    </tr>\n",
              "    <tr>\n",
              "      <th>Cuisines</th>\n",
              "      <td>French, Japanese, Desserts</td>\n",
              "      <td>Japanese</td>\n",
              "      <td>Seafood, Asian, Filipino, Indian</td>\n",
              "      <td>Japanese, Sushi</td>\n",
              "      <td>Japanese, Korean</td>\n",
              "      <td>Chinese</td>\n",
              "      <td>Asian, European</td>\n",
              "      <td>Seafood, Filipino, Asian, European</td>\n",
              "      <td>European, Asian, Indian</td>\n",
              "      <td>Filipino</td>\n",
              "    </tr>\n",
              "    <tr>\n",
              "      <th>Average Cost for two</th>\n",
              "      <td>1100</td>\n",
              "      <td>1200</td>\n",
              "      <td>4000</td>\n",
              "      <td>1500</td>\n",
              "      <td>1500</td>\n",
              "      <td>1000</td>\n",
              "      <td>2000</td>\n",
              "      <td>2000</td>\n",
              "      <td>6000</td>\n",
              "      <td>1100</td>\n",
              "    </tr>\n",
              "    <tr>\n",
              "      <th>Currency</th>\n",
              "      <td>Botswana Pula(P)</td>\n",
              "      <td>Botswana Pula(P)</td>\n",
              "      <td>Botswana Pula(P)</td>\n",
              "      <td>Botswana Pula(P)</td>\n",
              "      <td>Botswana Pula(P)</td>\n",
              "      <td>Botswana Pula(P)</td>\n",
              "      <td>Botswana Pula(P)</td>\n",
              "      <td>Botswana Pula(P)</td>\n",
              "      <td>Botswana Pula(P)</td>\n",
              "      <td>Botswana Pula(P)</td>\n",
              "    </tr>\n",
              "    <tr>\n",
              "      <th>Has Table booking</th>\n",
              "      <td>Yes</td>\n",
              "      <td>Yes</td>\n",
              "      <td>Yes</td>\n",
              "      <td>No</td>\n",
              "      <td>Yes</td>\n",
              "      <td>No</td>\n",
              "      <td>Yes</td>\n",
              "      <td>Yes</td>\n",
              "      <td>Yes</td>\n",
              "      <td>Yes</td>\n",
              "    </tr>\n",
              "    <tr>\n",
              "      <th>Has Online delivery</th>\n",
              "      <td>No</td>\n",
              "      <td>No</td>\n",
              "      <td>No</td>\n",
              "      <td>No</td>\n",
              "      <td>No</td>\n",
              "      <td>No</td>\n",
              "      <td>No</td>\n",
              "      <td>No</td>\n",
              "      <td>No</td>\n",
              "      <td>No</td>\n",
              "    </tr>\n",
              "    <tr>\n",
              "      <th>Is delivering now</th>\n",
              "      <td>No</td>\n",
              "      <td>No</td>\n",
              "      <td>No</td>\n",
              "      <td>No</td>\n",
              "      <td>No</td>\n",
              "      <td>No</td>\n",
              "      <td>No</td>\n",
              "      <td>No</td>\n",
              "      <td>No</td>\n",
              "      <td>No</td>\n",
              "    </tr>\n",
              "    <tr>\n",
              "      <th>Switch to order menu</th>\n",
              "      <td>No</td>\n",
              "      <td>No</td>\n",
              "      <td>No</td>\n",
              "      <td>No</td>\n",
              "      <td>No</td>\n",
              "      <td>No</td>\n",
              "      <td>No</td>\n",
              "      <td>No</td>\n",
              "      <td>No</td>\n",
              "      <td>No</td>\n",
              "    </tr>\n",
              "    <tr>\n",
              "      <th>Price range</th>\n",
              "      <td>3</td>\n",
              "      <td>3</td>\n",
              "      <td>4</td>\n",
              "      <td>4</td>\n",
              "      <td>4</td>\n",
              "      <td>3</td>\n",
              "      <td>4</td>\n",
              "      <td>4</td>\n",
              "      <td>4</td>\n",
              "      <td>3</td>\n",
              "    </tr>\n",
              "    <tr>\n",
              "      <th>Aggregate rating</th>\n",
              "      <td>4.8</td>\n",
              "      <td>4.5</td>\n",
              "      <td>4.4</td>\n",
              "      <td>4.9</td>\n",
              "      <td>4.8</td>\n",
              "      <td>4.4</td>\n",
              "      <td>4</td>\n",
              "      <td>4.2</td>\n",
              "      <td>4.9</td>\n",
              "      <td>4.8</td>\n",
              "    </tr>\n",
              "    <tr>\n",
              "      <th>Rating color</th>\n",
              "      <td>Dark Green</td>\n",
              "      <td>Dark Green</td>\n",
              "      <td>Green</td>\n",
              "      <td>Dark Green</td>\n",
              "      <td>Dark Green</td>\n",
              "      <td>Green</td>\n",
              "      <td>Green</td>\n",
              "      <td>Green</td>\n",
              "      <td>Dark Green</td>\n",
              "      <td>Dark Green</td>\n",
              "    </tr>\n",
              "    <tr>\n",
              "      <th>Rating text</th>\n",
              "      <td>Excellent</td>\n",
              "      <td>Excellent</td>\n",
              "      <td>Very Good</td>\n",
              "      <td>Excellent</td>\n",
              "      <td>Excellent</td>\n",
              "      <td>Very Good</td>\n",
              "      <td>Very Good</td>\n",
              "      <td>Very Good</td>\n",
              "      <td>Excellent</td>\n",
              "      <td>Excellent</td>\n",
              "    </tr>\n",
              "    <tr>\n",
              "      <th>Votes</th>\n",
              "      <td>314</td>\n",
              "      <td>591</td>\n",
              "      <td>270</td>\n",
              "      <td>365</td>\n",
              "      <td>229</td>\n",
              "      <td>336</td>\n",
              "      <td>520</td>\n",
              "      <td>677</td>\n",
              "      <td>621</td>\n",
              "      <td>532</td>\n",
              "    </tr>\n",
              "    <tr>\n",
              "      <th>Country</th>\n",
              "      <td>Phillipines</td>\n",
              "      <td>Phillipines</td>\n",
              "      <td>Phillipines</td>\n",
              "      <td>Phillipines</td>\n",
              "      <td>Phillipines</td>\n",
              "      <td>Phillipines</td>\n",
              "      <td>Phillipines</td>\n",
              "      <td>Phillipines</td>\n",
              "      <td>Phillipines</td>\n",
              "      <td>Phillipines</td>\n",
              "    </tr>\n",
              "  </tbody>\n",
              "</table>\n",
              "</div>"
            ],
            "text/plain": [
              "                                                                      0  ...                                                  9\n",
              "Restaurant ID                                                   6317637  ...                                            6314987\n",
              "Restaurant Name                                        Le Petit Souffle  ...                                           Locavore\n",
              "Country Code                                                        162  ...                                                162\n",
              "City                                                        Makati City  ...                                         Pasig City\n",
              "Address               Third Floor, Century City Mall, Kalayaan Avenu...  ...  Brixton Technology Center, 10 Brixton Street, ...\n",
              "Locality                      Century City Mall, Poblacion, Makati City  ...                                          Kapitolyo\n",
              "Locality Verbose      Century City Mall, Poblacion, Makati City, Mak...  ...                              Kapitolyo, Pasig City\n",
              "Longitude                                                       121.028  ...                                            121.057\n",
              "Latitude                                                        14.5654  ...                                             14.572\n",
              "Cuisines                                     French, Japanese, Desserts  ...                                           Filipino\n",
              "Average Cost for two                                               1100  ...                                               1100\n",
              "Currency                                               Botswana Pula(P)  ...                                   Botswana Pula(P)\n",
              "Has Table booking                                                   Yes  ...                                                Yes\n",
              "Has Online delivery                                                  No  ...                                                 No\n",
              "Is delivering now                                                    No  ...                                                 No\n",
              "Switch to order menu                                                 No  ...                                                 No\n",
              "Price range                                                           3  ...                                                  3\n",
              "Aggregate rating                                                    4.8  ...                                                4.8\n",
              "Rating color                                                 Dark Green  ...                                         Dark Green\n",
              "Rating text                                                   Excellent  ...                                          Excellent\n",
              "Votes                                                               314  ...                                                532\n",
              "Country                                                     Phillipines  ...                                        Phillipines\n",
              "\n",
              "[22 rows x 10 columns]"
            ]
          },
          "metadata": {
            "tags": []
          },
          "execution_count": 9
        }
      ]
    },
    {
      "cell_type": "code",
      "metadata": {
        "colab": {
          "base_uri": "https://localhost:8080/"
        },
        "id": "be-HjFrYnVgq",
        "outputId": "7a6a1ca1-96f9-4f99-d6be-4cc25d2d25e9"
      },
      "source": [
        "df1.Country.unique()"
      ],
      "execution_count": 10,
      "outputs": [
        {
          "output_type": "execute_result",
          "data": {
            "text/plain": [
              "array(['Phillipines', 'Brazil', 'United States', 'Australia', 'Canada',\n",
              "       'Singapore', 'UAE', 'India', 'Indonesia', 'New Zealand',\n",
              "       'United Kingdom', 'Qatar', 'South Africa', 'Sri Lanka', 'Turkey'],\n",
              "      dtype=object)"
            ]
          },
          "metadata": {
            "tags": []
          },
          "execution_count": 10
        }
      ]
    },
    {
      "cell_type": "code",
      "metadata": {
        "colab": {
          "base_uri": "https://localhost:8080/"
        },
        "id": "rKWkb2zlnlRs",
        "outputId": "812d785b-aa03-485d-fcc6-5ff62c92397c"
      },
      "source": [
        "df1['Country'].value_counts()"
      ],
      "execution_count": 11,
      "outputs": [
        {
          "output_type": "execute_result",
          "data": {
            "text/plain": [
              "India             8652\n",
              "United States      434\n",
              "United Kingdom      80\n",
              "Brazil              60\n",
              "South Africa        60\n",
              "UAE                 60\n",
              "New Zealand         40\n",
              "Turkey              34\n",
              "Australia           24\n",
              "Phillipines         22\n",
              "Indonesia           21\n",
              "Sri Lanka           20\n",
              "Qatar               20\n",
              "Singapore           20\n",
              "Canada               4\n",
              "Name: Country, dtype: int64"
            ]
          },
          "metadata": {
            "tags": []
          },
          "execution_count": 11
        }
      ]
    },
    {
      "cell_type": "code",
      "metadata": {
        "colab": {
          "base_uri": "https://localhost:8080/"
        },
        "id": "Rw5yYcpqn4ag",
        "outputId": "b50b2ac4-9283-4f44-b1a9-fb0cdbac7047"
      },
      "source": [
        "df1['City'].value_counts()"
      ],
      "execution_count": 12,
      "outputs": [
        {
          "output_type": "execute_result",
          "data": {
            "text/plain": [
              "New Delhi         5473\n",
              "Gurgaon           1118\n",
              "Noida             1080\n",
              "Faridabad          251\n",
              "Ghaziabad           25\n",
              "                  ... \n",
              "Winchester Bay       1\n",
              "Clatskanie           1\n",
              "Huskisson            1\n",
              "Flaxton              1\n",
              "Lorn                 1\n",
              "Name: City, Length: 141, dtype: int64"
            ]
          },
          "metadata": {
            "tags": []
          },
          "execution_count": 12
        }
      ]
    },
    {
      "cell_type": "code",
      "metadata": {
        "id": "QZVMnl65n_6F",
        "colab": {
          "base_uri": "https://localhost:8080/",
          "height": 354
        },
        "outputId": "f7cc0c7e-335d-42a6-df60-4a5dc8ac0172"
      },
      "source": [
        "df1.groupby('Cuisines')['Aggregate rating'].mean().plot.hist(orientation='vertical', color='pink', figsize=(5,5))\r\n",
        "plt.figure()"
      ],
      "execution_count": 13,
      "outputs": [
        {
          "output_type": "execute_result",
          "data": {
            "text/plain": [
              "<Figure size 432x288 with 0 Axes>"
            ]
          },
          "metadata": {
            "tags": []
          },
          "execution_count": 13
        },
        {
          "output_type": "display_data",
          "data": {
            "image/png": "[encoded data removed]",
            "text/plain": [
              "<Figure size 360x360 with 1 Axes>"
            ]
          },
          "metadata": {
            "tags": [],
            "needs_background": "light"
          }
        },
        {
          "output_type": "display_data",
          "data": {
            "text/plain": [
              "<Figure size 432x288 with 0 Axes>"
            ]
          },
          "metadata": {
            "tags": []
          }
        }
      ]
    },
    {
      "cell_type": "code",
      "metadata": {
        "colab": {
          "base_uri": "https://localhost:8080/"
        },
        "id": "DZMceUwoo--N",
        "outputId": "6846155c-639d-40e5-9c89-97485f2e7f56"
      },
      "source": [
        "df1.groupby('Cuisines')['Aggregate rating'].mean()"
      ],
      "execution_count": 14,
      "outputs": [
        {
          "output_type": "execute_result",
          "data": {
            "text/plain": [
              "Cuisines\n",
              "Afghani                                      0.725\n",
              "Afghani, Mughlai, Chinese                    0.000\n",
              "Afghani, North Indian                        0.000\n",
              "Afghani, North Indian, Pakistani, Arabian    0.000\n",
              "African                                      4.700\n",
              "                                             ...  \n",
              "Western, Asian, Cafe                         4.200\n",
              "Western, Fusion, Fast Food                   3.200\n",
              "World Cuisine                                4.900\n",
              "World Cuisine, Mexican, Italian              4.400\n",
              "World Cuisine, Patisserie, Cafe              4.200\n",
              "Name: Aggregate rating, Length: 1825, dtype: float64"
            ]
          },
          "metadata": {
            "tags": []
          },
          "execution_count": 14
        }
      ]
    },
    {
      "cell_type": "code",
      "metadata": {
        "colab": {
          "base_uri": "https://localhost:8080/",
          "height": 629
        },
        "id": "bQbwA1DOpC0q",
        "outputId": "65280ed5-61cb-4a3f-d8b8-e19555c42524"
      },
      "source": [
        "df1.groupby('Aggregate rating')['Average Cost for two'].mean().plot(kind='bar', figsize=(10,10), color='blue')\r\n",
        "plt.xlabel('Aggregate rating', color='g')\r\n",
        "plt.ylabel('Average Cost for two', color='g')\r\n",
        "plt.figure();"
      ],
      "execution_count": 15,
      "outputs": [
        {
          "output_type": "display_data",
          "data": {
            "image/png": "[encoded data removed]",
            "text/plain": [
              "<Figure size 720x720 with 1 Axes>"
            ]
          },
          "metadata": {
            "tags": [],
            "needs_background": "light"
          }
        },
        {
          "output_type": "display_data",
          "data": {
            "text/plain": [
              "<Figure size 432x288 with 0 Axes>"
            ]
          },
          "metadata": {
            "tags": []
          }
        }
      ]
    },
    {
      "cell_type": "code",
      "metadata": {
        "colab": {
          "base_uri": "https://localhost:8080/"
        },
        "id": "O7PfWn_JpKL5",
        "outputId": "e36a6dee-4af7-475f-c82f-1513fd2e57c8"
      },
      "source": [
        "print('Has table booking = ', df1[df1['Has Table booking']=='Yes']['Aggregate rating'].mean())\r\n",
        "print('Hasn`t table booking= ', df1[df1['Has Table booking']=='No']['Aggregate rating'].mean())"
      ],
      "execution_count": 16,
      "outputs": [
        {
          "output_type": "stream",
          "text": [
            "Has table booking =  3.4419689119170966\n",
            "Hasn`t table booking=  2.5593589896342195\n"
          ],
          "name": "stdout"
        }
      ]
    },
    {
      "cell_type": "code",
      "metadata": {
        "colab": {
          "base_uri": "https://localhost:8080/",
          "height": 357
        },
        "id": "w67ydSKopUVh",
        "outputId": "f30560bc-30ef-4961-adc1-cbac493e98a5"
      },
      "source": [
        "df1.groupby('Has Table booking')['Aggregate rating'].mean().plot(kind='bar', color='pink', figsize=(5,5))\r\n",
        "plt.xlabel('Has Table Booking', color='grey')\r\n",
        "plt.ylabel('Aggregate rating', color='grey') \r\n",
        "plt.figure();"
      ],
      "execution_count": 17,
      "outputs": [
        {
          "output_type": "display_data",
          "data": {
            "image/png": "[encoded data removed]",
            "text/plain": [
              "<Figure size 360x360 with 1 Axes>"
            ]
          },
          "metadata": {
            "tags": [],
            "needs_background": "light"
          }
        },
        {
          "output_type": "display_data",
          "data": {
            "text/plain": [
              "<Figure size 432x288 with 0 Axes>"
            ]
          },
          "metadata": {
            "tags": []
          }
        }
      ]
    },
    {
      "cell_type": "code",
      "metadata": {
        "colab": {
          "base_uri": "https://localhost:8080/",
          "height": 446
        },
        "id": "ApKTR4zupaFQ",
        "outputId": "e1fe0a48-e0db-4998-8937-1ae2d575eb04"
      },
      "source": [
        "df1.groupby('Rating text')['Longitude', 'Latitude'].mean().plot(kind='bar', figsize=(5,5))\r\n",
        "plt.figure();"
      ],
      "execution_count": 18,
      "outputs": [
        {
          "output_type": "stream",
          "text": [
            "/usr/local/lib/python3.7/dist-packages/ipykernel_launcher.py:1: FutureWarning: Indexing with multiple keys (implicitly converted to a tuple of keys) will be deprecated, use a list instead.\n",
            "  \"\"\"Entry point for launching an IPython kernel.\n"
          ],
          "name": "stderr"
        },
        {
          "output_type": "display_data",
          "data": {
            "image/png": "[encoded data removed]",
            "text/plain": [
              "<Figure size 360x360 with 1 Axes>"
            ]
          },
          "metadata": {
            "tags": [],
            "needs_background": "light"
          }
        },
        {
          "output_type": "display_data",
          "data": {
            "text/plain": [
              "<Figure size 432x288 with 0 Axes>"
            ]
          },
          "metadata": {
            "tags": []
          }
        }
      ]
    },
    {
      "cell_type": "code",
      "metadata": {
        "colab": {
          "base_uri": "https://localhost:8080/"
        },
        "id": "tWdO9h1EpiRJ",
        "outputId": "ee739ead-526d-4aee-e62e-44dad7dfefca"
      },
      "source": [
        "df1['Restaurant Name'].value_counts().head(5)"
      ],
      "execution_count": 19,
      "outputs": [
        {
          "output_type": "execute_result",
          "data": {
            "text/plain": [
              "Cafe Coffee Day     83\n",
              "Domino's Pizza      79\n",
              "Subway              63\n",
              "Green Chick Chop    51\n",
              "McDonald's          48\n",
              "Name: Restaurant Name, dtype: int64"
            ]
          },
          "metadata": {
            "tags": []
          },
          "execution_count": 19
        }
      ]
    },
    {
      "cell_type": "code",
      "metadata": {
        "colab": {
          "base_uri": "https://localhost:8080/",
          "height": 719
        },
        "id": "z5yA3ge8plms",
        "outputId": "f2c2f893-d9c6-4521-8645-371a0f97ff52"
      },
      "source": [
        "df1['Restaurant Name'].value_counts().head(5).plot(kind='bar', color='black', figsize=(10,10))\r\n",
        "plt.xlabel('Name of restaurant', color='g')\r\n",
        "plt.ylabel('Amount of each restaurant', color='g')\r\n",
        "plt.figure()\r\n"
      ],
      "execution_count": 20,
      "outputs": [
        {
          "output_type": "execute_result",
          "data": {
            "text/plain": [
              "<Figure size 432x288 with 0 Axes>"
            ]
          },
          "metadata": {
            "tags": []
          },
          "execution_count": 20
        },
        {
          "output_type": "display_data",
          "data": {
            "image/png": "[encoded data removed]",
            "text/plain": [
              "<Figure size 720x720 with 1 Axes>"
            ]
          },
          "metadata": {
            "tags": [],
            "needs_background": "light"
          }
        },
        {
          "output_type": "display_data",
          "data": {
            "text/plain": [
              "<Figure size 432x288 with 0 Axes>"
            ]
          },
          "metadata": {
            "tags": []
          }
        }
      ]
    },
    {
      "cell_type": "code",
      "metadata": {
        "colab": {
          "base_uri": "https://localhost:8080/"
        },
        "id": "6EemN2YDpuzR",
        "outputId": "1b4bdbed-0fa4-4c6f-8802-0b3d00069a58"
      },
      "source": [
        "df1['Cuisines'].value_counts()"
      ],
      "execution_count": 21,
      "outputs": [
        {
          "output_type": "execute_result",
          "data": {
            "text/plain": [
              "North Indian                       936\n",
              "North Indian, Chinese              511\n",
              "Chinese                            354\n",
              "Fast Food                          354\n",
              "North Indian, Mughlai              334\n",
              "                                  ... \n",
              "American, British, Continental       1\n",
              "American, Seafood, Southern          1\n",
              "European, Italian, Desserts          1\n",
              "Cafe, British                        1\n",
              "North Indian, European, Chinese      1\n",
              "Name: Cuisines, Length: 1825, dtype: int64"
            ]
          },
          "metadata": {
            "tags": []
          },
          "execution_count": 21
        }
      ]
    },
    {
      "cell_type": "code",
      "metadata": {
        "colab": {
          "base_uri": "https://localhost:8080/",
          "height": 784
        },
        "id": "V2EmySlEp0r5",
        "outputId": "16109875-1ea9-40d4-bb19-82b7ef1cd718"
      },
      "source": [
        "df1['Cuisines'].value_counts().head(10).plot(kind='bar', figsize = (10,10), color='black')\r\n",
        "plt.xlabel('Popularity of cuisines')\r\n",
        "plt.figure()"
      ],
      "execution_count": 22,
      "outputs": [
        {
          "output_type": "execute_result",
          "data": {
            "text/plain": [
              "<Figure size 432x288 with 0 Axes>"
            ]
          },
          "metadata": {
            "tags": []
          },
          "execution_count": 22
        },
        {
          "output_type": "display_data",
          "data": {
            "image/png": "[encoded data removed]",
            "text/plain": [
              "<Figure size 720x720 with 1 Axes>"
            ]
          },
          "metadata": {
            "tags": [],
            "needs_background": "light"
          }
        },
        {
          "output_type": "display_data",
          "data": {
            "text/plain": [
              "<Figure size 432x288 with 0 Axes>"
            ]
          },
          "metadata": {
            "tags": []
          }
        }
      ]
    }
  ]
}